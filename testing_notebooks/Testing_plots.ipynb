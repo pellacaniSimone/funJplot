{
 "cells": [
  {
   "cell_type": "code",
   "execution_count": null,
   "id": "cdf05a0d-d0ab-494c-b7cf-4cd7a84d994a",
   "metadata": {},
   "outputs": [],
   "source": [
    "from funJplot import VectorRotation\n",
    "vector_anim = VectorRotation(frame_count=150, frame_duration_ms=40)\n",
    "vector_anim.show()"
   ]
  },
  {
   "cell_type": "code",
   "execution_count": null,
   "id": "dc5ace1b-7bd6-459e-9441-f518842d58cd",
   "metadata": {},
   "outputs": [],
   "source": [
    "import numpy as np\n",
    "from funJplot import MathMul # install version >= 0.0.0.5\n",
    "\n",
    "A = np.array([\n",
    "              [0, -1],\n",
    "              [1,  0]\n",
    "             ])\n",
    "B = np.array([\n",
    "              [2, 0],\n",
    "              [0, 1]\n",
    "             ])\n",
    "v=np.array([1, 1])\n",
    "anim = MathMul(A, B, v)\n",
    "anim.show()"
   ]
  }
 ],
 "metadata": {
  "kernelspec": {
   "display_name": "Python 3 (ipykernel)",
   "language": "python",
   "name": "python3"
  },
  "language_info": {
   "codemirror_mode": {
    "name": "ipython",
    "version": 3
   },
   "file_extension": ".py",
   "mimetype": "text/x-python",
   "name": "python",
   "nbconvert_exporter": "python",
   "pygments_lexer": "ipython3",
   "version": "3.11.2"
  }
 },
 "nbformat": 4,
 "nbformat_minor": 5
}
